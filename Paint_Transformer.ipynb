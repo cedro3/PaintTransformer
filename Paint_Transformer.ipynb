{
  "nbformat": 4,
  "nbformat_minor": 0,
  "metadata": {
    "colab": {
      "name": "Paint_Transformer",
      "provenance": [],
      "collapsed_sections": [],
      "include_colab_link": true
    },
    "kernelspec": {
      "name": "python3",
      "display_name": "Python 3"
    },
    "language_info": {
      "name": "python"
    },
    "accelerator": "GPU"
  },
  "cells": [
    {
      "cell_type": "markdown",
      "metadata": {
        "id": "view-in-github",
        "colab_type": "text"
      },
      "source": [
        "<a href=\"https://colab.research.google.com/github/cedro3/PaintTransformer/blob/main/Paint_Transformer.ipynb\" target=\"_parent\"><img src=\"https://colab.research.google.com/assets/colab-badge.svg\" alt=\"Open In Colab\"/></a>"
      ]
    },
    {
      "cell_type": "markdown",
      "metadata": {
        "id": "OpNAhRee_0Fy"
      },
      "source": [
        "# セットアップ"
      ]
    },
    {
      "cell_type": "code",
      "metadata": {
        "id": "xVm91xF0IXkJ"
      },
      "source": [
        "# githubからコードを取得\n",
        "!git clone https://github.com/cedro3/PaintTransformer.git\n",
        "%cd PaintTransformer/inference"
      ],
      "execution_count": null,
      "outputs": []
    },
    {
      "cell_type": "markdown",
      "metadata": {
        "id": "1F237OVi_3oz"
      },
      "source": [
        "# プロセス動画作成"
      ]
    },
    {
      "cell_type": "code",
      "metadata": {
        "id": "_9qqTJ9C5gYz"
      },
      "source": [
        "# 画像指定\n",
        "input_img = 'yui.jpg'"
      ],
      "execution_count": null,
      "outputs": []
    },
    {
      "cell_type": "code",
      "metadata": {
        "id": "ovrg6GqOIbzm"
      },
      "source": [
        "# --- ペイントプロセスの作成 ---\n",
        "from inference import run_inference\n",
        "import os \n",
        "import shutil\n",
        "\n",
        "# outputフォルダーリセット\n",
        "if os.path.isdir('output'):\n",
        "    shutil.rmtree('output')\n",
        "\n",
        "# name取得\n",
        "name = input_img[:-4]\n",
        "\n",
        "# プロセス作成\n",
        "run_inference(input_path='input/'+input_img,\n",
        "              model_path='model.pth',\n",
        "              output_dir='output/', # whether need intermediate results for animation.\n",
        "              need_animation=True,  # resize original input to this size. None means do not resize.\n",
        "              resize_h=None,        # resize original input to this size. None means do not resize.\n",
        "              resize_w=None,\n",
        "              serial=True)          # if need animation, serial must be True."
      ],
      "execution_count": null,
      "outputs": []
    },
    {
      "cell_type": "code",
      "metadata": {
        "id": "63S0ohZmI1Qf"
      },
      "source": [
        "# --- プロセスからgifとmp4を作成 ---\n",
        "import glob\n",
        "from PIL import Image\n",
        "\n",
        "# Set to dir with output images\n",
        "in_dir = 'output/'+name+'/*.jpg'\n",
        "out_path = 'output/process.gif'\n",
        "\n",
        "img, *imgs = [Image.open(f) for f in sorted(glob.glob(in_dir))]\n",
        "img.save(fp=out_path, format='GIF', append_images=imgs,\n",
        "          save_all=True, duration=100, loop=0)\n",
        "\n",
        "! ffmpeg -i output/process.gif -pix_fmt yuv420p output/process.mp4"
      ],
      "execution_count": null,
      "outputs": []
    },
    {
      "cell_type": "code",
      "metadata": {
        "id": "ui0m_3QWpWSe"
      },
      "source": [
        "# --- mp4の再生 ---\n",
        "from IPython.display import HTML\n",
        "from base64 import b64encode\n",
        "\n",
        "mp4 = open('./output/process.mp4', 'rb').read()\n",
        "data_url = 'data:video/mp4;base64,' + b64encode(mp4).decode()\n",
        "HTML(f\"\"\"\n",
        "<video width=\"70%\" height=\"70%\" controls>\n",
        "      <source src=\"{data_url}\" type=\"video/mp4\">\n",
        "</video>\"\"\")"
      ],
      "execution_count": null,
      "outputs": []
    },
    {
      "cell_type": "markdown",
      "metadata": {
        "id": "hVE2O75bAEaR"
      },
      "source": [
        "# ペイント動画作成"
      ]
    },
    {
      "cell_type": "code",
      "metadata": {
        "id": "6ZXp_NwhAITr"
      },
      "source": [
        "# --- ビデオを静止画にバラす ---\n",
        "import os\n",
        "import shutil\n",
        "import cv2\n",
        "import math\n",
        "\n",
        "# imagesフォルダーリセット\n",
        "if os.path.isdir('images'):\n",
        "    shutil.rmtree('images')\n",
        "os.makedirs('images', exist_ok=True)\n",
        " \n",
        "def video_2_images(video_file= './input/yui.mp4',   # ビデオ指定\n",
        "                   image_dir='./images/', \n",
        "                   image_file='%s.jpg'):  \n",
        " \n",
        "    # Initial setting\n",
        "    i = 0\n",
        "    interval = 3\n",
        "    length = 120  # 最大フレーム数\n",
        "    \n",
        "    cap = cv2.VideoCapture(video_file)\n",
        "    while(cap.isOpened()):\n",
        "        flag, frame = cap.read()  \n",
        "        if flag == False:  \n",
        "                break\n",
        "        if i == length*interval:\n",
        "                break\n",
        "        if i % interval == 0:\n",
        "           cv2.imwrite(image_dir+image_file % str(int(i/interval)).zfill(6), frame)\n",
        "        i += 1 \n",
        "    cap.release()  \n",
        "    print('images_number = ', math.ceil(i/interval))\n",
        "\n",
        "def main():\n",
        "    video_2_images()\n",
        "    \n",
        "if __name__ == '__main__':\n",
        "    main()"
      ],
      "execution_count": null,
      "outputs": []
    },
    {
      "cell_type": "code",
      "metadata": {
        "id": "OgWg_TVjAcyc"
      },
      "source": [
        "# --- 静止画を油絵に変換する ---\n",
        "from inference import run_inference\n",
        "import os\n",
        "import shutil\n",
        "import glob\n",
        "from tqdm import tqdm\n",
        "\n",
        "# outputフォルダーリセット\n",
        "if os.path.isdir('frame'):\n",
        "    shutil.rmtree('frame')\n",
        "\n",
        "files = glob.glob('./images/*.jpg')\n",
        "files.sort()\n",
        "\n",
        "for file in tqdm(files):\n",
        "    run_inference(input_path=file,\n",
        "         model_path='model.pth',\n",
        "         output_dir='frame/',\n",
        "         need_animation=False,  # whether need intermediate results for animation.\n",
        "         resize_h=None,         # resize original input to this size. None means do not resize.\n",
        "         resize_w=None,         # resize original input to this size. None means do not resize.\n",
        "         serial=True)          # if need animation, serial must be True."
      ],
      "execution_count": null,
      "outputs": []
    },
    {
      "cell_type": "code",
      "metadata": {
        "id": "g66Dt9wCAgUp"
      },
      "source": [
        "# --- mp4作成 ---\n",
        "# output.mp4をリセット\n",
        "if os.path.exists('./output.mp4'):\n",
        "   os.remove('./output.mp4')\n",
        "\n",
        "# frameフォルダーの画像をmp4に変換\n",
        "!ffmpeg -r 10 -i frame/%06d.jpg -vcodec libx264 -pix_fmt yuv420p output.mp4"
      ],
      "execution_count": null,
      "outputs": []
    },
    {
      "cell_type": "code",
      "metadata": {
        "id": "snkpdgWtAhT7"
      },
      "source": [
        "# --- mp4再生 ---\n",
        "from IPython.display import HTML\n",
        "from base64 import b64encode\n",
        "\n",
        "mp4 = open('./output.mp4', 'rb').read()\n",
        "data_url = 'data:video/mp4;base64,' + b64encode(mp4).decode()\n",
        "HTML(f\"\"\"\n",
        "<video width=\"70%\" height=\"70%\" controls>\n",
        "      <source src=\"{data_url}\" type=\"video/mp4\">\n",
        "</video>\"\"\")"
      ],
      "execution_count": null,
      "outputs": []
    }
  ]
}